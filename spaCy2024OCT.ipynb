{
  "nbformat": 4,
  "nbformat_minor": 0,
  "metadata": {
    "colab": {
      "provenance": [],
      "authorship_tag": "ABX9TyM4Isq2FCk29Thu3TNHNqHd",
      "include_colab_link": true
    },
    "kernelspec": {
      "name": "python3",
      "display_name": "Python 3"
    },
    "language_info": {
      "name": "python"
    }
  },
  "cells": [
    {
      "cell_type": "markdown",
      "metadata": {
        "id": "view-in-github",
        "colab_type": "text"
      },
      "source": [
        "<a href=\"https://colab.research.google.com/github/San-Maansson/NLP/blob/main/spaCy2024OCT.ipynb\" target=\"_parent\"><img src=\"https://colab.research.google.com/assets/colab-badge.svg\" alt=\"Open In Colab\"/></a>"
      ]
    },
    {
      "cell_type": "code",
      "source": [
        "import spacy\n"
      ],
      "metadata": {
        "id": "Q6zv1dZBd5IR"
      },
      "execution_count": 6,
      "outputs": []
    },
    {
      "cell_type": "code",
      "source": [
        " !python -m spacy info"
      ],
      "metadata": {
        "colab": {
          "base_uri": "https://localhost:8080/"
        },
        "id": "ne2zW6fEgTp4",
        "outputId": "8cdb8cd0-4757-4d39-bfd4-24c4c27bfc29"
      },
      "execution_count": 8,
      "outputs": [
        {
          "output_type": "stream",
          "name": "stdout",
          "text": [
            "\u001b[1m\n",
            "============================== Info about spaCy ==============================\u001b[0m\n",
            "\n",
            "spaCy version    3.7.6                         \n",
            "Location         /usr/local/lib/python3.10/dist-packages/spacy\n",
            "Platform         Linux-6.1.85+-x86_64-with-glibc2.35\n",
            "Python version   3.10.12                       \n",
            "Pipelines        en_core_web_sm (3.7.1)        \n",
            "\n"
          ]
        }
      ]
    },
    {
      "cell_type": "code",
      "source": [
        "nlp = spacy.load('en_core_web_sm')"
      ],
      "metadata": {
        "id": "K3VVgVYEgYJx"
      },
      "execution_count": 7,
      "outputs": []
    },
    {
      "cell_type": "code",
      "source": [
        "doc = nlp(u'I am flying to Bangkok next month and this is going to be fun')\n"
      ],
      "metadata": {
        "id": "s0LyoxV_gwxI"
      },
      "execution_count": 8,
      "outputs": []
    },
    {
      "cell_type": "code",
      "source": [
        " print([i.text for i in doc])"
      ],
      "metadata": {
        "colab": {
          "base_uri": "https://localhost:8080/"
        },
        "id": "ogFK9YWeg6xL",
        "outputId": "1913ce4f-cce0-478d-ad69-23559bea855a"
      },
      "execution_count": 11,
      "outputs": [
        {
          "output_type": "stream",
          "name": "stdout",
          "text": [
            "['I', 'am', 'flying', 'to', 'Bangkok', 'next', 'month', 'and', 'this', 'is', 'going', 'to', 'be', 'fun']\n"
          ]
        }
      ]
    },
    {
      "cell_type": "code",
      "source": [
        "for token in doc:\n",
        "  print(token.text, token.lemma_, token.tag_, spacy.explain(token.tag_), token.pos_, spacy.explain(token.pos_), token.dep_)"
      ],
      "metadata": {
        "colab": {
          "base_uri": "https://localhost:8080/"
        },
        "id": "X_zznlUpjfLL",
        "outputId": "877a04ec-01f8-4740-bbe3-754ed560caba"
      },
      "execution_count": 12,
      "outputs": [
        {
          "output_type": "stream",
          "name": "stdout",
          "text": [
            "I I PRP pronoun, personal PRON pronoun nsubj\n",
            "am be VBP verb, non-3rd person singular present AUX auxiliary aux\n",
            "flying fly VBG verb, gerund or present participle VERB verb ROOT\n",
            "to to IN conjunction, subordinating or preposition ADP adposition prep\n",
            "Bangkok Bangkok NNP noun, proper singular PROPN proper noun pobj\n",
            "next next JJ adjective (English), other noun-modifier (Chinese) ADJ adjective amod\n",
            "month month NN noun, singular or mass NOUN noun npadvmod\n",
            "and and CC conjunction, coordinating CCONJ coordinating conjunction cc\n",
            "this this DT determiner PRON pronoun nsubj\n",
            "is be VBZ verb, 3rd person singular present AUX auxiliary aux\n",
            "going go VBG verb, gerund or present participle VERB verb conj\n",
            "to to TO infinitival \"to\" PART particle aux\n",
            "be be VB verb, base form AUX auxiliary xcomp\n",
            "fun fun JJ adjective (English), other noun-modifier (Chinese) ADJ adjective acomp\n"
          ]
        }
      ]
    },
    {
      "cell_type": "code",
      "source": [
        "for token in doc:\n",
        "  print(token.head.text, token.dep_, token.text)\n"
      ],
      "metadata": {
        "colab": {
          "base_uri": "https://localhost:8080/"
        },
        "id": "Eu4Q_bdjr0xm",
        "outputId": "fc275c6f-d729-4195-f298-111055df45f0"
      },
      "execution_count": 13,
      "outputs": [
        {
          "output_type": "stream",
          "name": "stdout",
          "text": [
            "flying nsubj I\n",
            "flying aux am\n",
            "flying ROOT flying\n",
            "flying prep to\n",
            "to pobj Bangkok\n",
            "month amod next\n",
            "flying npadvmod month\n",
            "going cc and\n",
            "going nsubj this\n",
            "going aux is\n",
            "flying conj going\n",
            "be aux to\n",
            "going xcomp be\n",
            "be acomp fun\n"
          ]
        }
      ]
    },
    {
      "cell_type": "code",
      "source": [
        "#Lemmatization\n",
        "print([w.lemma_ for w in doc])"
      ],
      "metadata": {
        "colab": {
          "base_uri": "https://localhost:8080/"
        },
        "id": "9CYoo3yLlHnm",
        "outputId": "ff9f1000-834a-4bb6-a440-d3aa4793bdcd"
      },
      "execution_count": 14,
      "outputs": [
        {
          "output_type": "stream",
          "name": "stdout",
          "text": [
            "['I', 'be', 'fly', 'to', 'Bangkok', 'next', 'month', 'and', 'this', 'be', 'go', 'to', 'be', 'fun']\n"
          ]
        }
      ]
    },
    {
      "cell_type": "code",
      "source": [
        "#Part of Speech Tagging\n",
        "print([w.tag_ for w in doc])"
      ],
      "metadata": {
        "colab": {
          "base_uri": "https://localhost:8080/"
        },
        "id": "N9ujIBWzl69D",
        "outputId": "0b21ecb3-e425-403f-808a-81aa4fc7b855"
      },
      "execution_count": 15,
      "outputs": [
        {
          "output_type": "stream",
          "name": "stdout",
          "text": [
            "['PRP', 'VBP', 'VBG', 'IN', 'NNP', 'JJ', 'NN', 'CC', 'DT', 'VBZ', 'VBG', 'TO', 'VB', 'JJ']\n"
          ]
        }
      ]
    },
    {
      "cell_type": "code",
      "source": [
        "print([w.text for w in doc if w.tag_== 'VBG' or w.tag_== 'VB'])"
      ],
      "metadata": {
        "colab": {
          "base_uri": "https://localhost:8080/"
        },
        "id": "1PQGVDeDnygy",
        "outputId": "f4ee3adf-88cd-416a-8997-04e5e1aa1ec5"
      },
      "execution_count": 16,
      "outputs": [
        {
          "output_type": "stream",
          "name": "stdout",
          "text": [
            "['flying', 'going', 'be']\n"
          ]
        }
      ]
    },
    {
      "cell_type": "code",
      "source": [
        "print([w.text for w in doc if w.pos_ == 'PROPN'])"
      ],
      "metadata": {
        "colab": {
          "base_uri": "https://localhost:8080/"
        },
        "id": "TmO-4yEloUCu",
        "outputId": "9ce271de-47ef-42ce-a83b-fe2a3b7a724b"
      },
      "execution_count": 17,
      "outputs": [
        {
          "output_type": "stream",
          "name": "stdout",
          "text": [
            "['Bangkok']\n"
          ]
        }
      ]
    },
    {
      "cell_type": "code",
      "source": [
        "for sent in doc.sents:\n",
        "  print([w.text for w in sent if w.dep_ == 'ROOT' or w.dep_ == 'pobj'])"
      ],
      "metadata": {
        "colab": {
          "base_uri": "https://localhost:8080/"
        },
        "id": "MYvMrM9cx5yO",
        "outputId": "92e4dede-f27a-4e01-b849-bf6ca2c1f9df"
      },
      "execution_count": 18,
      "outputs": [
        {
          "output_type": "stream",
          "name": "stdout",
          "text": [
            "['flying', 'Bangkok']\n"
          ]
        }
      ]
    },
    {
      "cell_type": "code",
      "source": [
        "doc = nlp(u\"The product sales hit a new record in the first quarter, with 18.6 million units sold.\")\n",
        "phrase = ''\n",
        "for token in doc:\n",
        "  if token.pos_ == 'NUM':\n",
        "    while True:\n",
        "      phrase = phrase + ' ' + token.text\n",
        "      token = token.head\n",
        "      if token not in list(token.head.lefts):\n",
        "       phrase = phrase + ' ' + token.text\n",
        "       break\n",
        "    break\n",
        "print(phrase.strip())\n"
      ],
      "metadata": {
        "colab": {
          "base_uri": "https://localhost:8080/"
        },
        "id": "rStiPfj5T1BH",
        "outputId": "24765991-8218-4f21-89bb-300d4b994765"
      },
      "execution_count": 75,
      "outputs": [
        {
          "output_type": "stream",
          "name": "stdout",
          "text": [
            "18.6 million units\n"
          ]
        }
      ]
    },
    {
      "cell_type": "code",
      "source": [
        "while True:\n",
        "  token = doc[token.i].head\n",
        "  if token.pos_ != 'ADP':\n",
        "    phrase = token.text + phrase\n",
        "    if token.dep_ == 'ROOT':\n",
        "      break"
      ],
      "metadata": {
        "id": "TThy9PCaXGX8"
      },
      "execution_count": 77,
      "outputs": []
    },
    {
      "cell_type": "code",
      "source": [
        "for tok in token.lefts:\n",
        "  if tok.dep_ == 'nsubj':\n",
        "    phrase = ' '.join([tok.text for tok in tok.lefts]) + ' ' + tok.text + ' ' + phrase\n",
        "    break\n",
        "print(phrase)"
      ],
      "metadata": {
        "colab": {
          "base_uri": "https://localhost:8080/"
        },
        "id": "pT36MmvwXSxE",
        "outputId": "52675b7b-2d94-4067-f696-515cba1c7729"
      },
      "execution_count": 81,
      "outputs": [
        {
          "output_type": "stream",
          "name": "stdout",
          "text": [
            "The product sales hit 18.6 million units\n"
          ]
        }
      ]
    },
    {
      "cell_type": "code",
      "source": [
        "doc = nlp(u\"The company, whose profits reached a record high this year, largely attributed to changes in management, earned a total revenue of $4.26 million.\")\n",
        "phrase = ''\n",
        "for token in doc:\n",
        "  if token.pos_ == 'NUM':\n",
        "    while True:\n",
        "      phrase = phrase + ' ' + token.text\n",
        "      token = token.head\n",
        "      if token not in list(token.head.lefts):\n",
        "       phrase = phrase + ' ' + token.text\n",
        "       break\n",
        "    break\n",
        "print(phrase.strip())"
      ],
      "metadata": {
        "colab": {
          "base_uri": "https://localhost:8080/"
        },
        "id": "OWk-DYY6X-y-",
        "outputId": "9f74f03f-f199-4f1f-f649-ab924eb216ba"
      },
      "execution_count": 16,
      "outputs": [
        {
          "output_type": "stream",
          "name": "stdout",
          "text": [
            "4.26 million\n"
          ]
        }
      ]
    },
    {
      "cell_type": "code",
      "source": [
        "while True:\n",
        "  token = doc[token.i].head\n",
        "  if token.pos_ != 'ADP':\n",
        "    phrase = token.text + phrase\n",
        "    if token.dep_ == 'ROOT':\n",
        "      break"
      ],
      "metadata": {
        "id": "jY7FwuVrZRfC"
      },
      "execution_count": 24,
      "outputs": []
    },
    {
      "cell_type": "code",
      "source": [
        "for tok in token.lefts:\n",
        "  if tok.dep_ == 'nsubj':\n",
        "    phrase = ' '.join([tok.text for tok in tok.lefts]) + ' ' + tok.text + ' ' + phrase\n",
        "  break\n",
        "print(phrase)"
      ],
      "metadata": {
        "colab": {
          "base_uri": "https://localhost:8080/"
        },
        "id": "MoqETMOGYS_J",
        "outputId": "d8db7073-f891-4b72-9f4b-f4d87b95c1f8"
      },
      "execution_count": 25,
      "outputs": [
        {
          "output_type": "stream",
          "name": "stdout",
          "text": [
            "The company earnedThe company The company earnedThe company The company  earnedrevenue 4.26 million\n"
          ]
        }
      ]
    },
    {
      "cell_type": "code",
      "source": [
        "doc = nlp(u'show me the best hotel in Bangkok')\n",
        "for token in doc:\n",
        "  if token.dep_ == 'dobj':\n",
        "    print(token.head.text + ' ' + token.text.capitalize())\n"
      ],
      "metadata": {
        "colab": {
          "base_uri": "https://localhost:8080/"
        },
        "id": "ZvMoO_dW83JY",
        "outputId": "b228f5f3-73f0-4dce-e52b-191d65a7bbe1"
      },
      "execution_count": 14,
      "outputs": [
        {
          "output_type": "stream",
          "name": "stdout",
          "text": [
            "show Hotel\n"
          ]
        }
      ]
    },
    {
      "cell_type": "code",
      "source": [
        "doc = nlp(u'I want a pizza and cola.')\n",
        "#extract the direct object and the conjunct associated with it\n",
        "for token in doc:\n",
        "  if token.dep_ == 'dobj':\n",
        "    dobj = [token.text]\n",
        "    conj = [t.text for t in token.conjuncts]\n",
        "#compose the list of the extracted elements\n",
        "dobj_conj = dobj + conj\n",
        "print(dobj_conj)\n"
      ],
      "metadata": {
        "colab": {
          "base_uri": "https://localhost:8080/"
        },
        "id": "yw19Vxsw96IU",
        "outputId": "271753b1-c91c-43c9-cbdd-5767217c2e90"
      },
      "execution_count": 26,
      "outputs": [
        {
          "output_type": "stream",
          "name": "stdout",
          "text": [
            "['pizza', 'cola']\n"
          ]
        }
      ]
    }
  ]
}