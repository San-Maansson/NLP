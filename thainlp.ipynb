{
  "cells": [
    {
      "cell_type": "code",
      "source": [
        "!pip install spacy-thai"
      ],
      "metadata": {
        "colab": {
          "base_uri": "https://localhost:8080/"
        },
        "id": "7sCa1xQqJhpT",
        "outputId": "e9f578c6-f357-4132-f245-e9e282ea3803"
      },
      "execution_count": 3,
      "outputs": [
        {
          "output_type": "stream",
          "name": "stdout",
          "text": [
            "Looking in indexes: https://pypi.org/simple, https://us-python.pkg.dev/colab-wheels/public/simple/\n",
            "Collecting spacy-thai\n",
            "  Downloading spacy_thai-0.7.3-py3-none-any.whl (6.0 MB)\n",
            "\u001b[2K     \u001b[90m━━━━━━━━━━━━━━━━━━━━━━━━━━━━━━━━━━━━━━━━\u001b[0m \u001b[32m6.0/6.0 MB\u001b[0m \u001b[31m15.8 MB/s\u001b[0m eta \u001b[36m0:00:00\u001b[0m\n",
            "\u001b[?25hCollecting deplacy>=2.0.3 (from spacy-thai)\n",
            "  Downloading deplacy-2.0.5-py3-none-any.whl (22 kB)\n",
            "Collecting pythainlp>=2.3.2 (from spacy-thai)\n",
            "  Downloading pythainlp-4.0.0-py3-none-any.whl (13.4 MB)\n",
            "\u001b[2K     \u001b[90m━━━━━━━━━━━━━━━━━━━━━━━━━━━━━━━━━━━━━━━━\u001b[0m \u001b[32m13.4/13.4 MB\u001b[0m \u001b[31m61.3 MB/s\u001b[0m eta \u001b[36m0:00:00\u001b[0m\n",
            "\u001b[?25hRequirement already satisfied: spacy>=2.2.2 in /usr/local/lib/python3.10/dist-packages (from spacy-thai) (3.5.2)\n",
            "Collecting ufal.udpipe>=1.2.0 (from spacy-thai)\n",
            "  Downloading ufal.udpipe-1.3.0.1-cp310-cp310-manylinux_2_17_x86_64.manylinux2014_x86_64.whl (936 kB)\n",
            "\u001b[2K     \u001b[90m━━━━━━━━━━━━━━━━━━━━━━━━━━━━━━━━━━━━━━\u001b[0m \u001b[32m937.0/937.0 kB\u001b[0m \u001b[31m54.2 MB/s\u001b[0m eta \u001b[36m0:00:00\u001b[0m\n",
            "\u001b[?25hRequirement already satisfied: requests>=2.22.0 in /usr/local/lib/python3.10/dist-packages (from pythainlp>=2.3.2->spacy-thai) (2.27.1)\n",
            "Requirement already satisfied: spacy-legacy<3.1.0,>=3.0.11 in /usr/local/lib/python3.10/dist-packages (from spacy>=2.2.2->spacy-thai) (3.0.12)\n",
            "Requirement already satisfied: spacy-loggers<2.0.0,>=1.0.0 in /usr/local/lib/python3.10/dist-packages (from spacy>=2.2.2->spacy-thai) (1.0.4)\n",
            "Requirement already satisfied: murmurhash<1.1.0,>=0.28.0 in /usr/local/lib/python3.10/dist-packages (from spacy>=2.2.2->spacy-thai) (1.0.9)\n",
            "Requirement already satisfied: cymem<2.1.0,>=2.0.2 in /usr/local/lib/python3.10/dist-packages (from spacy>=2.2.2->spacy-thai) (2.0.7)\n",
            "Requirement already satisfied: preshed<3.1.0,>=3.0.2 in /usr/local/lib/python3.10/dist-packages (from spacy>=2.2.2->spacy-thai) (3.0.8)\n",
            "Requirement already satisfied: thinc<8.2.0,>=8.1.8 in /usr/local/lib/python3.10/dist-packages (from spacy>=2.2.2->spacy-thai) (8.1.9)\n",
            "Requirement already satisfied: wasabi<1.2.0,>=0.9.1 in /usr/local/lib/python3.10/dist-packages (from spacy>=2.2.2->spacy-thai) (1.1.1)\n",
            "Requirement already satisfied: srsly<3.0.0,>=2.4.3 in /usr/local/lib/python3.10/dist-packages (from spacy>=2.2.2->spacy-thai) (2.4.6)\n",
            "Requirement already satisfied: catalogue<2.1.0,>=2.0.6 in /usr/local/lib/python3.10/dist-packages (from spacy>=2.2.2->spacy-thai) (2.0.8)\n",
            "Requirement already satisfied: typer<0.8.0,>=0.3.0 in /usr/local/lib/python3.10/dist-packages (from spacy>=2.2.2->spacy-thai) (0.7.0)\n",
            "Requirement already satisfied: pathy>=0.10.0 in /usr/local/lib/python3.10/dist-packages (from spacy>=2.2.2->spacy-thai) (0.10.1)\n",
            "Requirement already satisfied: smart-open<7.0.0,>=5.2.1 in /usr/local/lib/python3.10/dist-packages (from spacy>=2.2.2->spacy-thai) (6.3.0)\n",
            "Requirement already satisfied: tqdm<5.0.0,>=4.38.0 in /usr/local/lib/python3.10/dist-packages (from spacy>=2.2.2->spacy-thai) (4.65.0)\n",
            "Requirement already satisfied: numpy>=1.15.0 in /usr/local/lib/python3.10/dist-packages (from spacy>=2.2.2->spacy-thai) (1.22.4)\n",
            "Requirement already satisfied: pydantic!=1.8,!=1.8.1,<1.11.0,>=1.7.4 in /usr/local/lib/python3.10/dist-packages (from spacy>=2.2.2->spacy-thai) (1.10.7)\n",
            "Requirement already satisfied: jinja2 in /usr/local/lib/python3.10/dist-packages (from spacy>=2.2.2->spacy-thai) (3.1.2)\n",
            "Requirement already satisfied: setuptools in /usr/local/lib/python3.10/dist-packages (from spacy>=2.2.2->spacy-thai) (67.7.2)\n",
            "Requirement already satisfied: packaging>=20.0 in /usr/local/lib/python3.10/dist-packages (from spacy>=2.2.2->spacy-thai) (23.1)\n",
            "Requirement already satisfied: langcodes<4.0.0,>=3.2.0 in /usr/local/lib/python3.10/dist-packages (from spacy>=2.2.2->spacy-thai) (3.3.0)\n",
            "Requirement already satisfied: typing-extensions>=4.2.0 in /usr/local/lib/python3.10/dist-packages (from pydantic!=1.8,!=1.8.1,<1.11.0,>=1.7.4->spacy>=2.2.2->spacy-thai) (4.5.0)\n",
            "Requirement already satisfied: urllib3<1.27,>=1.21.1 in /usr/local/lib/python3.10/dist-packages (from requests>=2.22.0->pythainlp>=2.3.2->spacy-thai) (1.26.15)\n",
            "Requirement already satisfied: certifi>=2017.4.17 in /usr/local/lib/python3.10/dist-packages (from requests>=2.22.0->pythainlp>=2.3.2->spacy-thai) (2022.12.7)\n",
            "Requirement already satisfied: charset-normalizer~=2.0.0 in /usr/local/lib/python3.10/dist-packages (from requests>=2.22.0->pythainlp>=2.3.2->spacy-thai) (2.0.12)\n",
            "Requirement already satisfied: idna<4,>=2.5 in /usr/local/lib/python3.10/dist-packages (from requests>=2.22.0->pythainlp>=2.3.2->spacy-thai) (3.4)\n",
            "Requirement already satisfied: blis<0.8.0,>=0.7.8 in /usr/local/lib/python3.10/dist-packages (from thinc<8.2.0,>=8.1.8->spacy>=2.2.2->spacy-thai) (0.7.9)\n",
            "Requirement already satisfied: confection<1.0.0,>=0.0.1 in /usr/local/lib/python3.10/dist-packages (from thinc<8.2.0,>=8.1.8->spacy>=2.2.2->spacy-thai) (0.0.4)\n",
            "Requirement already satisfied: click<9.0.0,>=7.1.1 in /usr/local/lib/python3.10/dist-packages (from typer<0.8.0,>=0.3.0->spacy>=2.2.2->spacy-thai) (8.1.3)\n",
            "Requirement already satisfied: MarkupSafe>=2.0 in /usr/local/lib/python3.10/dist-packages (from jinja2->spacy>=2.2.2->spacy-thai) (2.1.2)\n",
            "Installing collected packages: ufal.udpipe, deplacy, pythainlp, spacy-thai\n",
            "Successfully installed deplacy-2.0.5 pythainlp-4.0.0 spacy-thai-0.7.3 ufal.udpipe-1.3.0.1\n"
          ]
        }
      ]
    },
    {
      "cell_type": "code",
      "execution_count": 4,
      "metadata": {
        "id": "hWEqoWICIbq2"
      },
      "outputs": [],
      "source": [
        "import spacy"
      ]
    },
    {
      "cell_type": "code",
      "execution_count": 9,
      "metadata": {
        "id": "C8IYS732Ibq6"
      },
      "outputs": [],
      "source": [
        "import spacy_thai\n",
        "import deplacy"
      ]
    },
    {
      "cell_type": "code",
      "source": [
        "nlp=spacy_thai.load()\n",
        "doc=nlp(\"ประเทศไทย มีชื่ออย่างเป็นทางการว่า ราชอาณาจักรไทย เป็นรัฐชาติอันตั้งอยู่ในภูมิภาคเอเชียตะวันออกเฉียงใต้ เดิมมีชื่อว่า 'สยาม'\")"
      ],
      "metadata": {
        "id": "SlRYW_CMKD7x"
      },
      "execution_count": 12,
      "outputs": []
    },
    {
      "cell_type": "code",
      "source": [
        "for t in doc:\n",
        "  print(\"\\t\".join([str(t.i+1),t.orth_,t.lemma_,t.pos_,t.tag_,\"_\",str(0 if t.head==t else t.head.i+1),t.dep_,\"_\",\"_\" if t.whitespace_ else \"SpaceAfter=No\"]))"
      ],
      "metadata": {
        "colab": {
          "base_uri": "https://localhost:8080/"
        },
        "id": "ZMmmHtGcKMQ_",
        "outputId": "051df7c7-d9c8-44c6-d777-6073142118c2"
      },
      "execution_count": 13,
      "outputs": [
        {
          "output_type": "stream",
          "name": "stdout",
          "text": [
            "1\tประเทศ\t\tNOUN\tNCMN\t_\t5\tnsubj\t_\tSpaceAfter=No\n",
            "2\tไทย\t\tPROPN\tNPRP\t_\t1\tcompound\t_\t_\n",
            "3\tมีชื่อ\t\tSCONJ\tJSBR\t_\t5\tnsubj\t_\tSpaceAfter=No\n",
            "4\tอย่าง\t\tPART\tFIXV\t_\t5\taux\t_\tSpaceAfter=No\n",
            "5\tเป็นทางการ\t\tVERB\tVSTA\t_\t0\tROOT\t_\tSpaceAfter=No\n",
            "6\tว่า\t\tSCONJ\tJSBR\t_\t9\tmark\t_\t_\n",
            "7\tราชอาณาจักร\t\tNOUN\tNCMN\t_\t9\tnsubj\t_\tSpaceAfter=No\n",
            "8\tไทย\t\tPROPN\tNPRP\t_\t7\tcompound\t_\t_\n",
            "9\tเป็น\t\tVERB\tVSTA\t_\t5\tccomp\t_\tSpaceAfter=No\n",
            "10\tรัฐ\t\tNOUN\tNCMN\t_\t9\tobj\t_\tSpaceAfter=No\n",
            "11\tชาติ\t\tNOUN\tNCMN\t_\t10\tcompound\t_\tSpaceAfter=No\n",
            "12\tอัน\t\tSCONJ\tPREL\t_\t9\tobj\t_\tSpaceAfter=No\n",
            "13\tตั้งอยู่\t\tVERB\tVSTA\t_\t12\tacl\t_\tSpaceAfter=No\n",
            "14\tใน\t\tADP\tRPRE\t_\t15\tcase\t_\tSpaceAfter=No\n",
            "15\tภูมิภาค\t\tNOUN\tNCMN\t_\t13\tobl\t_\tSpaceAfter=No\n",
            "16\tเอเชียตะวันออกเฉียงใต้\t\tNOUN\tNCMN\t_\t15\tcompound\t_\t_\n",
            "17\tเดิม\t\tADJ\tVATT\t_\t16\tacl\t_\tSpaceAfter=No\n",
            "18\tมี\t\tVERB\tVSTA\t_\t13\txcomp\t_\tSpaceAfter=No\n",
            "19\tชื่อว่า\t\tNOUN\tNCMN\t_\t18\tobj\t_\t_\n",
            "20\t'\t\tNOUN\tNCMN\t_\t19\tcompound\t_\tSpaceAfter=No\n",
            "21\tสยาม\t\tVERB\tVACT\t_\t19\tacl\t_\tSpaceAfter=No\n",
            "22\t'\t\tNOUN\tNCMN\t_\t21\tobj\t_\tSpaceAfter=No\n"
          ]
        }
      ]
    },
    {
      "cell_type": "code",
      "source": [
        "deplacy.render(doc,WordRight=True)"
      ],
      "metadata": {
        "colab": {
          "base_uri": "https://localhost:8080/"
        },
        "id": "0TYx69lmLRrn",
        "outputId": "ef5a87be-a506-427f-9570-b1e417bc483a"
      },
      "execution_count": 14,
      "outputs": [
        {
          "output_type": "stream",
          "name": "stdout",
          "text": [
            "   nsubj ╔══════════════════════>╔═ NOUN  ประเทศ\n",
            "compound ║                       ╚> PROPN ไทย\n",
            "   nsubj ║ ╔══════════════════════> SCONJ มีชื่อ\n",
            "     aux ║ ║ ╔════════════════════> PART  อย่าง\n",
            "    ROOT ╚═╚═╚═╔═══════════════════ VERB  เป็นทางการ\n",
            "    mark       ║ ╔════════════════> SCONJ ว่า\n",
            "   nsubj       ║ ║ ╔════════════>╔═ NOUN  ราชอาณาจักร\n",
            "compound       ║ ║ ║             ╚> PROPN ไทย\n",
            "   ccomp       ╚>╚═╚═╔═════════╔═══ VERB  เป็น\n",
            "     obj             ║         ╚>╔═ NOUN  รัฐ\n",
            "compound             ║           ╚> NOUN  ชาติ\n",
            "     obj             ╚>╔═══════════ SCONJ อัน\n",
            "     acl               ╚>╔═╔═══════ VERB  ตั้งอยู่\n",
            "    case                 ║ ║ ╔════> ADP   ใน\n",
            "     obl                 ║ ╚>╚═╔═══ NOUN  ภูมิภาค\n",
            "compound                 ║     ╚>╔═ NOUN  เอเชียตะวันออกเฉียงใต้\n",
            "     acl                 ║       ╚> ADJ   เดิม\n",
            "   xcomp                 ╚══>╔═════ VERB  มี\n",
            "     obj                     ╚>╔═╔═ NOUN  ชื่อว่า\n",
            "compound                       ║ ╚> NOUN  '\n",
            "     acl                       ╚>╔═ VERB  สยาม\n",
            "     obj                         ╚> NOUN  '\n"
          ]
        }
      ]
    }
  ],
  "metadata": {
    "kernelspec": {
      "display_name": "course_vm",
      "language": "python",
      "name": "python3"
    },
    "language_info": {
      "codemirror_mode": {
        "name": "ipython",
        "version": 3
      },
      "file_extension": ".py",
      "mimetype": "text/x-python",
      "name": "python",
      "nbconvert_exporter": "python",
      "pygments_lexer": "ipython3",
      "version": "3.10.5"
    },
    "orig_nbformat": 4,
    "colab": {
      "provenance": []
    }
  },
  "nbformat": 4,
  "nbformat_minor": 0
}