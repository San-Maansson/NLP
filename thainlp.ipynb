{
  "cells": [
    {
      "cell_type": "markdown",
      "metadata": {
        "id": "view-in-github",
        "colab_type": "text"
      },
      "source": [
        "<a href=\"https://colab.research.google.com/github/San-Maansson/NLP/blob/main/thainlp.ipynb\" target=\"_parent\"><img src=\"https://colab.research.google.com/assets/colab-badge.svg\" alt=\"Open In Colab\"/></a>"
      ]
    },
    {
      "cell_type": "code",
      "source": [
        "!pip install spacy-thai"
      ],
      "metadata": {
        "colab": {
          "base_uri": "https://localhost:8080/"
        },
        "id": "7sCa1xQqJhpT",
        "outputId": "cedfd9e0-aac4-4c1d-c84b-1611e9e2c4ba"
      },
      "execution_count": 1,
      "outputs": [
        {
          "output_type": "stream",
          "name": "stdout",
          "text": [
            "Looking in indexes: https://pypi.org/simple, https://us-python.pkg.dev/colab-wheels/public/simple/\n",
            "Collecting spacy-thai\n",
            "  Downloading spacy_thai-0.7.3-py3-none-any.whl (6.0 MB)\n",
            "\u001b[2K     \u001b[90m━━━━━━━━━━━━━━━━━━━━━━━━━━━━━━━━━━━━━━━━\u001b[0m \u001b[32m6.0/6.0 MB\u001b[0m \u001b[31m5.0 MB/s\u001b[0m eta \u001b[36m0:00:00\u001b[0m\n",
            "\u001b[?25hRequirement already satisfied: spacy>=2.2.2 in /usr/local/lib/python3.10/dist-packages (from spacy-thai) (3.5.2)\n",
            "Collecting pythainlp>=2.3.2\n",
            "  Downloading pythainlp-4.0.1-py3-none-any.whl (13.4 MB)\n",
            "\u001b[2K     \u001b[90m━━━━━━━━━━━━━━━━━━━━━━━━━━━━━━━━━━━━━━━━\u001b[0m \u001b[32m13.4/13.4 MB\u001b[0m \u001b[31m59.9 MB/s\u001b[0m eta \u001b[36m0:00:00\u001b[0m\n",
            "\u001b[?25hCollecting ufal.udpipe>=1.2.0\n",
            "  Downloading ufal.udpipe-1.3.0.1-cp310-cp310-manylinux_2_17_x86_64.manylinux2014_x86_64.whl (936 kB)\n",
            "\u001b[2K     \u001b[90m━━━━━━━━━━━━━━━━━━━━━━━━━━━━━━━━━━━━━━\u001b[0m \u001b[32m937.0/937.0 kB\u001b[0m \u001b[31m63.4 MB/s\u001b[0m eta \u001b[36m0:00:00\u001b[0m\n",
            "\u001b[?25hCollecting deplacy>=2.0.3\n",
            "  Downloading deplacy-2.0.5-py3-none-any.whl (22 kB)\n",
            "Requirement already satisfied: requests>=2.22.0 in /usr/local/lib/python3.10/dist-packages (from pythainlp>=2.3.2->spacy-thai) (2.27.1)\n",
            "Requirement already satisfied: catalogue<2.1.0,>=2.0.6 in /usr/local/lib/python3.10/dist-packages (from spacy>=2.2.2->spacy-thai) (2.0.8)\n",
            "Requirement already satisfied: spacy-legacy<3.1.0,>=3.0.11 in /usr/local/lib/python3.10/dist-packages (from spacy>=2.2.2->spacy-thai) (3.0.12)\n",
            "Requirement already satisfied: smart-open<7.0.0,>=5.2.1 in /usr/local/lib/python3.10/dist-packages (from spacy>=2.2.2->spacy-thai) (6.3.0)\n",
            "Requirement already satisfied: numpy>=1.15.0 in /usr/local/lib/python3.10/dist-packages (from spacy>=2.2.2->spacy-thai) (1.22.4)\n",
            "Requirement already satisfied: srsly<3.0.0,>=2.4.3 in /usr/local/lib/python3.10/dist-packages (from spacy>=2.2.2->spacy-thai) (2.4.6)\n",
            "Requirement already satisfied: cymem<2.1.0,>=2.0.2 in /usr/local/lib/python3.10/dist-packages (from spacy>=2.2.2->spacy-thai) (2.0.7)\n",
            "Requirement already satisfied: pathy>=0.10.0 in /usr/local/lib/python3.10/dist-packages (from spacy>=2.2.2->spacy-thai) (0.10.1)\n",
            "Requirement already satisfied: preshed<3.1.0,>=3.0.2 in /usr/local/lib/python3.10/dist-packages (from spacy>=2.2.2->spacy-thai) (3.0.8)\n",
            "Requirement already satisfied: langcodes<4.0.0,>=3.2.0 in /usr/local/lib/python3.10/dist-packages (from spacy>=2.2.2->spacy-thai) (3.3.0)\n",
            "Requirement already satisfied: wasabi<1.2.0,>=0.9.1 in /usr/local/lib/python3.10/dist-packages (from spacy>=2.2.2->spacy-thai) (1.1.1)\n",
            "Requirement already satisfied: tqdm<5.0.0,>=4.38.0 in /usr/local/lib/python3.10/dist-packages (from spacy>=2.2.2->spacy-thai) (4.65.0)\n",
            "Requirement already satisfied: jinja2 in /usr/local/lib/python3.10/dist-packages (from spacy>=2.2.2->spacy-thai) (3.1.2)\n",
            "Requirement already satisfied: typer<0.8.0,>=0.3.0 in /usr/local/lib/python3.10/dist-packages (from spacy>=2.2.2->spacy-thai) (0.7.0)\n",
            "Requirement already satisfied: setuptools in /usr/local/lib/python3.10/dist-packages (from spacy>=2.2.2->spacy-thai) (67.7.2)\n",
            "Requirement already satisfied: spacy-loggers<2.0.0,>=1.0.0 in /usr/local/lib/python3.10/dist-packages (from spacy>=2.2.2->spacy-thai) (1.0.4)\n",
            "Requirement already satisfied: thinc<8.2.0,>=8.1.8 in /usr/local/lib/python3.10/dist-packages (from spacy>=2.2.2->spacy-thai) (8.1.9)\n",
            "Requirement already satisfied: packaging>=20.0 in /usr/local/lib/python3.10/dist-packages (from spacy>=2.2.2->spacy-thai) (23.1)\n",
            "Requirement already satisfied: pydantic!=1.8,!=1.8.1,<1.11.0,>=1.7.4 in /usr/local/lib/python3.10/dist-packages (from spacy>=2.2.2->spacy-thai) (1.10.7)\n",
            "Requirement already satisfied: murmurhash<1.1.0,>=0.28.0 in /usr/local/lib/python3.10/dist-packages (from spacy>=2.2.2->spacy-thai) (1.0.9)\n",
            "Requirement already satisfied: typing-extensions>=4.2.0 in /usr/local/lib/python3.10/dist-packages (from pydantic!=1.8,!=1.8.1,<1.11.0,>=1.7.4->spacy>=2.2.2->spacy-thai) (4.5.0)\n",
            "Requirement already satisfied: charset-normalizer~=2.0.0 in /usr/local/lib/python3.10/dist-packages (from requests>=2.22.0->pythainlp>=2.3.2->spacy-thai) (2.0.12)\n",
            "Requirement already satisfied: urllib3<1.27,>=1.21.1 in /usr/local/lib/python3.10/dist-packages (from requests>=2.22.0->pythainlp>=2.3.2->spacy-thai) (1.26.15)\n",
            "Requirement already satisfied: certifi>=2017.4.17 in /usr/local/lib/python3.10/dist-packages (from requests>=2.22.0->pythainlp>=2.3.2->spacy-thai) (2022.12.7)\n",
            "Requirement already satisfied: idna<4,>=2.5 in /usr/local/lib/python3.10/dist-packages (from requests>=2.22.0->pythainlp>=2.3.2->spacy-thai) (3.4)\n",
            "Requirement already satisfied: confection<1.0.0,>=0.0.1 in /usr/local/lib/python3.10/dist-packages (from thinc<8.2.0,>=8.1.8->spacy>=2.2.2->spacy-thai) (0.0.4)\n",
            "Requirement already satisfied: blis<0.8.0,>=0.7.8 in /usr/local/lib/python3.10/dist-packages (from thinc<8.2.0,>=8.1.8->spacy>=2.2.2->spacy-thai) (0.7.9)\n",
            "Requirement already satisfied: click<9.0.0,>=7.1.1 in /usr/local/lib/python3.10/dist-packages (from typer<0.8.0,>=0.3.0->spacy>=2.2.2->spacy-thai) (8.1.3)\n",
            "Requirement already satisfied: MarkupSafe>=2.0 in /usr/local/lib/python3.10/dist-packages (from jinja2->spacy>=2.2.2->spacy-thai) (2.1.2)\n",
            "Installing collected packages: ufal.udpipe, deplacy, pythainlp, spacy-thai\n",
            "Successfully installed deplacy-2.0.5 pythainlp-4.0.1 spacy-thai-0.7.3 ufal.udpipe-1.3.0.1\n"
          ]
        }
      ]
    },
    {
      "cell_type": "code",
      "execution_count": 2,
      "metadata": {
        "id": "hWEqoWICIbq2"
      },
      "outputs": [],
      "source": [
        "import spacy"
      ]
    },
    {
      "cell_type": "code",
      "execution_count": 3,
      "metadata": {
        "id": "C8IYS732Ibq6"
      },
      "outputs": [],
      "source": [
        "import spacy_thai\n",
        "import deplacy"
      ]
    },
    {
      "cell_type": "code",
      "source": [
        "nlp=spacy_thai.load()\n",
        "doc=nlp(\"ไก่และสิ่งมีชีวิตวางไข่อื่น ๆ เก็บเลี้ยงอย่างกว้างขวางทั่วโลก และการผลิตไข่ไก่จำนวนมากเป็นอุตสาหกรรมระดับโลก\")"
      ],
      "metadata": {
        "id": "SlRYW_CMKD7x"
      },
      "execution_count": 4,
      "outputs": []
    },
    {
      "cell_type": "code",
      "source": [
        "for t in doc:\n",
        "  print(\"\\t\".join([str(t.i+1),'{:<29}'.format(f'{t.orth_}'),\"   \",t.lemma_,t.pos_,t.tag_,\"_\",str(0 if t.head==t else t.head.i+1),'{:<8}'.format(f'{t.dep_}'),\"_\",\"_\" if t.whitespace_ else \"SpaceAfter=No\"]))"
      ],
      "metadata": {
        "colab": {
          "base_uri": "https://localhost:8080/"
        },
        "id": "ZMmmHtGcKMQ_",
        "outputId": "1a8f0b6e-715a-467d-c578-e49a2b912491"
      },
      "execution_count": 37,
      "outputs": [
        {
          "output_type": "stream",
          "name": "stdout",
          "text": [
            "1\tไก่                          \t   \t\tNOUN\tNCMN\t_\t7\tnsubj   \t_\tSpaceAfter=No\n",
            "2\tและ                          \t   \t\tCCONJ\tJCRG\t_\t3\tcc      \t_\tSpaceAfter=No\n",
            "3\tสิ่งมีชีวิต                  \t   \t\tNOUN\tNCMN\t_\t1\tconj    \t_\tSpaceAfter=No\n",
            "4\tวางไข่                       \t   \t\tNOUN\tNCMN\t_\t3\tcompound\t_\tSpaceAfter=No\n",
            "5\tอื่น                         \t   \t\tDET\tDIAC\t_\t6\tdet     \t_\t_\n",
            "6\tๆ                            \t   \t\tNOUN\tNCMN\t_\t1\tcompound\t_\t_\n",
            "7\tเก็บ                         \t   \t\tVERB\tVACT\t_\t0\tROOT    \t_\tSpaceAfter=No\n",
            "8\tเลี้ยง                       \t   \t\tNOUN\tNCMN\t_\t7\tobj     \t_\tSpaceAfter=No\n",
            "9\tอย่าง                        \t   \t\tPART\tFIXV\t_\t7\taux     \t_\tSpaceAfter=No\n",
            "10\tกว้างขวาง                    \t   \t\tADJ\tVATT\t_\t7\tadvmod  \t_\tSpaceAfter=No\n",
            "11\tทั่วโลก                      \t   \t\tNOUN\tNCMN\t_\t16\tnsubj   \t_\t_\n",
            "12\tและ                          \t   \t\tCCONJ\tJCRG\t_\t13\tcc      \t_\tSpaceAfter=No\n",
            "13\tการผลิต                      \t   \t\tNOUN\tNCMN\t_\t11\tconj    \t_\tSpaceAfter=No\n",
            "14\tไข่ไก่                       \t   \t\tNOUN\tNCMN\t_\t13\tcompound\t_\tSpaceAfter=No\n",
            "15\tจำนวนมาก                     \t   \t\tDET\tDDAN\t_\t11\tdet     \t_\tSpaceAfter=No\n",
            "16\tเป็น                         \t   \t\tVERB\tVSTA\t_\t10\tacl     \t_\tSpaceAfter=No\n",
            "17\tอุตสาหกรรม                   \t   \t\tNOUN\tNCMN\t_\t16\tobj     \t_\tSpaceAfter=No\n",
            "18\tระดับโลก                     \t   \t\tNOUN\tNCMN\t_\t17\tcompound\t_\tSpaceAfter=No\n"
          ]
        }
      ]
    },
    {
      "cell_type": "code",
      "source": [
        "deplacy.render(doc,WordRight=True)"
      ],
      "metadata": {
        "colab": {
          "base_uri": "https://localhost:8080/"
        },
        "id": "0TYx69lmLRrn",
        "outputId": "c19a3780-f88e-45f7-a422-f1e35bb11e96"
      },
      "execution_count": 38,
      "outputs": [
        {
          "output_type": "stream",
          "name": "stdout",
          "text": [
            "   nsubj ╔══════>╔═╔═════ NOUN  ไก่\n",
            "      cc ║       ║ ║ ╔══> CCONJ และ\n",
            "    conj ║       ╚>║ ╚═╔═ NOUN  สิ่งมีชีวิต\n",
            "compound ║         ║   ╚> NOUN  วางไข่\n",
            "     det ║         ║   ╔> DET   อื่น\n",
            "compound ║         ╚══>╚═ NOUN  ๆ\n",
            "    ROOT ╚═╔═════════╔═╔═ VERB  เก็บ\n",
            "     obj   ║         ║ ╚> NOUN  เลี้ยง\n",
            "     aux   ║         ╚══> PART  อย่าง\n",
            "  advmod   ╚>╔═══════════ ADJ   กว้างขวาง\n",
            "   nsubj     ║ ╔>╔═╔═════ NOUN  ทั่วโลก\n",
            "      cc     ║ ║ ║ ║ ╔══> CCONJ และ\n",
            "    conj     ║ ║ ║ ╚>╚═╔═ NOUN  การผลิต\n",
            "compound     ║ ║ ║     ╚> NOUN  ไข่ไก่\n",
            "     det     ║ ║ ╚══════> DET   จำนวนมาก\n",
            "     acl     ╚>╚═════╔═══ VERB  เป็น\n",
            "     obj             ╚>╔═ NOUN  อุตสาหกรรม\n",
            "compound               ╚> NOUN  ระดับโลก\n"
          ]
        }
      ]
    },
    {
      "cell_type": "code",
      "source": [
        "import graphviz\n",
        "graphviz.Source(deplacy.dot(doc))"
      ],
      "metadata": {
        "id": "RR1fj5RkSZry",
        "outputId": "ca19e4c2-f7bc-43bc-98d7-840f316677b8",
        "colab": {
          "base_uri": "https://localhost:8080/",
          "height": 1000
        }
      },
      "execution_count": 39,
      "outputs": [
        {
          "output_type": "execute_result",
          "data": {
            "image/svg+xml": "<?xml version=\"1.0\" encoding=\"UTF-8\" standalone=\"no\"?>\n<!DOCTYPE svg PUBLIC \"-//W3C//DTD SVG 1.1//EN\"\n \"http://www.w3.org/Graphics/SVG/1.1/DTD/svg11.dtd\">\n<!-- Generated by graphviz version 2.43.0 (0)\n -->\n<!-- Title: deplacy Pages: 1 -->\n<svg width=\"1928pt\" height=\"747pt\"\n viewBox=\"0.00 0.00 1928.00 747.00\" xmlns=\"http://www.w3.org/2000/svg\" xmlns:xlink=\"http://www.w3.org/1999/xlink\">\n<g id=\"graph0\" class=\"graph\" transform=\"scale(1 1) rotate(0) translate(4 743)\">\n<title>deplacy</title>\n<polygon fill=\"white\" stroke=\"transparent\" points=\"-4,4 -4,-743 1924,-743 1924,4 -4,4\"/>\n<!-- r7 -->\n<g id=\"node1\" class=\"node\">\n<title>r7</title>\n<text text-anchor=\"middle\" x=\"1151\" y=\"-731\" font-family=\"sans-serif\" font-size=\"10.00\">ROOT</text>\n</g>\n<!-- x17 -->\n<g id=\"node2\" class=\"node\">\n<title>x17</title>\n<text text-anchor=\"middle\" x=\"1151\" y=\"-669.3\" font-family=\"Times,serif\" font-size=\"14.00\">ไก่และสิ่งมีชีวิตวางไข่อื่น ๆ เก็บเลี้ยงอย่างกว้างขวางทั่วโลก และการผลิตไข่ไก่จำนวนมากเป็นอุตสาหกรรมระดับโลก</text>\n</g>\n<!-- r7&#45;&gt;x17 -->\n<g id=\"edge1\" class=\"edge\">\n<title>r7&#45;&gt;x17</title>\n<path fill=\"none\" stroke=\"gray\" d=\"M1151,-727.91C1151,-722.11 1151,-711.66 1151,-701.5\"/>\n<polygon fill=\"gray\" stroke=\"gray\" points=\"1154.5,-701.21 1151,-691.21 1147.5,-701.21 1154.5,-701.21\"/>\n</g>\n<!-- x13 -->\n<g id=\"node3\" class=\"node\">\n<title>x13</title>\n<text text-anchor=\"middle\" x=\"303\" y=\"-274.3\" font-family=\"Times,serif\" font-size=\"14.00\">ไก่และสิ่งมีชีวิตวางไข่อื่น ๆ</text>\n</g>\n<!-- x17&#45;&gt;x13 -->\n<g id=\"edge2\" class=\"edge\">\n<title>x17&#45;&gt;x13</title>\n<path fill=\"none\" stroke=\"gray\" d=\"M1331.59,-655C1375.96,-646.94 1414.85,-635.17 1429,-618 1462.64,-577.19 1465.36,-537.41 1429,-499 1403.83,-472.41 1136.32,-485.58 1100,-481 818.43,-445.51 493.49,-343.31 362.38,-299.42\"/>\n<polygon fill=\"gray\" stroke=\"gray\" points=\"363.13,-295.98 352.53,-296.11 360.9,-302.61 363.13,-295.98\"/>\n<text text-anchor=\"middle\" x=\"1115.5\" y=\"-473\" font-family=\"sans-serif\" font-size=\"10.00\">nsubj</text>\n</g>\n<!-- x16 -->\n<g id=\"node4\" class=\"node\">\n<title>x16</title>\n<text text-anchor=\"middle\" x=\"854\" y=\"-596.3\" font-family=\"Times,serif\" font-size=\"14.00\">เก็บเลี้ยงอย่างกว้างขวางทั่วโลก และการผลิตไข่ไก่จำนวนมากเป็นอุตสาหกรรมระดับโลก</text>\n</g>\n<!-- x17&#45;&gt;x16 -->\n<g id=\"edge3\" class=\"edge\">\n<title>x17&#45;&gt;x16</title>\n<path fill=\"none\" stroke=\"gray\" d=\"M1079.86,-654.99C1036.29,-644.58 980.4,-631.22 935.12,-620.39\"/>\n<polygon fill=\"gray\" stroke=\"gray\" points=\"935.87,-616.97 925.33,-618.05 934.24,-623.78 935.87,-616.97\"/>\n</g>\n<!-- x12 -->\n<g id=\"node9\" class=\"node\">\n<title>x12</title>\n<text text-anchor=\"middle\" x=\"67\" y=\"-191.3\" font-family=\"Times,serif\" font-size=\"14.00\">ไก่อื่น ๆ</text>\n</g>\n<!-- x13&#45;&gt;x12 -->\n<g id=\"edge10\" class=\"edge\">\n<title>x13&#45;&gt;x12</title>\n<path fill=\"none\" stroke=\"gray\" d=\"M253.24,-259.92C216.21,-247.21 165.53,-229.82 126.38,-216.38\"/>\n<polygon fill=\"gray\" stroke=\"gray\" points=\"127.29,-212.99 116.69,-213.06 125.02,-219.61 127.29,-212.99\"/>\n</g>\n<!-- x10 -->\n<g id=\"node10\" class=\"node\">\n<title>x10</title>\n<text text-anchor=\"middle\" x=\"303\" y=\"-191.3\" font-family=\"Times,serif\" font-size=\"14.00\">และสิ่งมีชีวิตวางไข่</text>\n</g>\n<!-- x13&#45;&gt;x10 -->\n<g id=\"edge11\" class=\"edge\">\n<title>x13&#45;&gt;x10</title>\n<path fill=\"none\" stroke=\"gray\" d=\"M303,-259.82C303,-249.19 303,-235.31 303,-223.2\"/>\n<polygon fill=\"gray\" stroke=\"gray\" points=\"306.5,-223.15 303,-213.15 299.5,-223.15 306.5,-223.15\"/>\n<text text-anchor=\"middle\" x=\"315.5\" y=\"-234\" font-family=\"sans-serif\" font-size=\"10.00\">conj</text>\n</g>\n<!-- x15 -->\n<g id=\"node5\" class=\"node\">\n<title>x15</title>\n<text text-anchor=\"middle\" x=\"651\" y=\"-191.3\" font-family=\"Times,serif\" font-size=\"14.00\">เก็บเลี้ยงอย่าง</text>\n</g>\n<!-- x16&#45;&gt;x15 -->\n<g id=\"edge4\" class=\"edge\">\n<title>x16&#45;&gt;x15</title>\n<path fill=\"none\" stroke=\"gray\" d=\"M625.4,-581.94C565.43,-572.49 512.12,-557.8 493,-535 408.02,-433.63 558.34,-278.92 623.29,-219.96\"/>\n<polygon fill=\"gray\" stroke=\"gray\" points=\"625.66,-222.53 630.76,-213.25 620.98,-217.32 625.66,-222.53\"/>\n</g>\n<!-- x11 -->\n<g id=\"node6\" class=\"node\">\n<title>x11</title>\n<text text-anchor=\"middle\" x=\"961\" y=\"-513.3\" font-family=\"Times,serif\" font-size=\"14.00\">กว้างขวางทั่วโลก และการผลิตไข่ไก่จำนวนมากเป็นอุตสาหกรรมระดับโลก</text>\n</g>\n<!-- x16&#45;&gt;x11 -->\n<g id=\"edge5\" class=\"edge\">\n<title>x16&#45;&gt;x11</title>\n<path fill=\"none\" stroke=\"gray\" d=\"M876.69,-581.82C892.3,-570.01 913.21,-554.18 930.3,-541.24\"/>\n<polygon fill=\"gray\" stroke=\"gray\" points=\"932.48,-543.98 938.34,-535.15 928.26,-538.4 932.48,-543.98\"/>\n<text text-anchor=\"middle\" x=\"931.5\" y=\"-556\" font-family=\"sans-serif\" font-size=\"10.00\">advmod</text>\n</g>\n<!-- x14 -->\n<g id=\"node7\" class=\"node\">\n<title>x14</title>\n<text text-anchor=\"middle\" x=\"651\" y=\"-108.3\" font-family=\"Times,serif\" font-size=\"14.00\">เก็บเลี้ยง</text>\n</g>\n<!-- x15&#45;&gt;x14 -->\n<g id=\"edge6\" class=\"edge\">\n<title>x15&#45;&gt;x14</title>\n<path fill=\"none\" stroke=\"gray\" d=\"M651,-176.82C651,-166.19 651,-152.31 651,-140.2\"/>\n<polygon fill=\"gray\" stroke=\"gray\" points=\"654.5,-140.15 651,-130.15 647.5,-140.15 654.5,-140.15\"/>\n</g>\n<!-- w -->\n<g id=\"node8\" class=\"node\">\n<title>w</title>\n<polygon fill=\"none\" stroke=\"black\" stroke-width=\"0\" points=\"38,-0.5 38,-46.5 1872,-46.5 1872,-0.5 38,-0.5\"/>\n<text text-anchor=\"middle\" x=\"67.5\" y=\"-31.3\" font-family=\"Times,serif\" font-size=\"14.00\">ไก่</text>\n<polyline fill=\"none\" stroke=\"black\" stroke-width=\"0\" points=\"38,-23.5 97,-23.5 \"/>\n<text text-anchor=\"middle\" x=\"67.5\" y=\"-8.3\" font-family=\"Times,serif\" font-size=\"14.00\">NOUN</text>\n<polyline fill=\"none\" stroke=\"black\" stroke-width=\"0\" points=\"97,-0.5 97,-46.5 \"/>\n<text text-anchor=\"middle\" x=\"126.5\" y=\"-31.3\" font-family=\"Times,serif\" font-size=\"14.00\">และ</text>\n<polyline fill=\"none\" stroke=\"black\" stroke-width=\"0\" points=\"97,-23.5 156,-23.5 \"/>\n<text text-anchor=\"middle\" x=\"126.5\" y=\"-8.3\" font-family=\"Times,serif\" font-size=\"14.00\">CCONJ</text>\n<polyline fill=\"none\" stroke=\"black\" stroke-width=\"0\" points=\"156,-0.5 156,-46.5 \"/>\n<text text-anchor=\"middle\" x=\"242.5\" y=\"-31.3\" font-family=\"Times,serif\" font-size=\"14.00\">สิ่งมีชีวิต</text>\n<polyline fill=\"none\" stroke=\"black\" stroke-width=\"0\" points=\"156,-23.5 329,-23.5 \"/>\n<text text-anchor=\"middle\" x=\"242.5\" y=\"-8.3\" font-family=\"Times,serif\" font-size=\"14.00\">NOUN</text>\n<polyline fill=\"none\" stroke=\"black\" stroke-width=\"0\" points=\"329,-0.5 329,-46.5 \"/>\n<text text-anchor=\"middle\" x=\"380\" y=\"-31.3\" font-family=\"Times,serif\" font-size=\"14.00\">วางไข่</text>\n<polyline fill=\"none\" stroke=\"black\" stroke-width=\"0\" points=\"329,-23.5 431,-23.5 \"/>\n<text text-anchor=\"middle\" x=\"380\" y=\"-8.3\" font-family=\"Times,serif\" font-size=\"14.00\">NOUN</text>\n<polyline fill=\"none\" stroke=\"black\" stroke-width=\"0\" points=\"431,-0.5 431,-46.5 \"/>\n<text text-anchor=\"middle\" x=\"468\" y=\"-31.3\" font-family=\"Times,serif\" font-size=\"14.00\">อื่น</text>\n<polyline fill=\"none\" stroke=\"black\" stroke-width=\"0\" points=\"431,-23.5 505,-23.5 \"/>\n<text text-anchor=\"middle\" x=\"468\" y=\"-8.3\" font-family=\"Times,serif\" font-size=\"14.00\">DET</text>\n<polyline fill=\"none\" stroke=\"black\" stroke-width=\"0\" points=\"505,-0.5 505,-46.5 \"/>\n<text text-anchor=\"middle\" x=\"533\" y=\"-31.3\" font-family=\"Times,serif\" font-size=\"14.00\">ๆ</text>\n<polyline fill=\"none\" stroke=\"black\" stroke-width=\"0\" points=\"505,-23.5 561,-23.5 \"/>\n<text text-anchor=\"middle\" x=\"533\" y=\"-8.3\" font-family=\"Times,serif\" font-size=\"14.00\">NOUN</text>\n<polyline fill=\"none\" stroke=\"black\" stroke-width=\"0\" points=\"561,-0.5 561,-46.5 \"/>\n<text text-anchor=\"middle\" x=\"598\" y=\"-31.3\" font-family=\"Times,serif\" font-size=\"14.00\">เก็บ</text>\n<polyline fill=\"none\" stroke=\"black\" stroke-width=\"0\" points=\"561,-23.5 635,-23.5 \"/>\n<text text-anchor=\"middle\" x=\"598\" y=\"-8.3\" font-family=\"Times,serif\" font-size=\"14.00\">VERB</text>\n<polyline fill=\"none\" stroke=\"black\" stroke-width=\"0\" points=\"635,-0.5 635,-46.5 \"/>\n<text text-anchor=\"middle\" x=\"686\" y=\"-31.3\" font-family=\"Times,serif\" font-size=\"14.00\">เลี้ยง</text>\n<polyline fill=\"none\" stroke=\"black\" stroke-width=\"0\" points=\"635,-23.5 737,-23.5 \"/>\n<text text-anchor=\"middle\" x=\"686\" y=\"-8.3\" font-family=\"Times,serif\" font-size=\"14.00\">NOUN</text>\n<polyline fill=\"none\" stroke=\"black\" stroke-width=\"0\" points=\"737,-0.5 737,-46.5 \"/>\n<text text-anchor=\"middle\" x=\"781\" y=\"-31.3\" font-family=\"Times,serif\" font-size=\"14.00\">อย่าง</text>\n<polyline fill=\"none\" stroke=\"black\" stroke-width=\"0\" points=\"737,-23.5 825,-23.5 \"/>\n<text text-anchor=\"middle\" x=\"781\" y=\"-8.3\" font-family=\"Times,serif\" font-size=\"14.00\">PART</text>\n<polyline fill=\"none\" stroke=\"black\" stroke-width=\"0\" points=\"825,-0.5 825,-46.5 \"/>\n<text text-anchor=\"middle\" x=\"897.5\" y=\"-31.3\" font-family=\"Times,serif\" font-size=\"14.00\">กว้างขวาง</text>\n<polyline fill=\"none\" stroke=\"black\" stroke-width=\"0\" points=\"825,-23.5 970,-23.5 \"/>\n<text text-anchor=\"middle\" x=\"897.5\" y=\"-8.3\" font-family=\"Times,serif\" font-size=\"14.00\">ADJ</text>\n<polyline fill=\"none\" stroke=\"black\" stroke-width=\"0\" points=\"970,-0.5 970,-46.5 \"/>\n<text text-anchor=\"middle\" x=\"1028\" y=\"-31.3\" font-family=\"Times,serif\" font-size=\"14.00\">ทั่วโลก</text>\n<polyline fill=\"none\" stroke=\"black\" stroke-width=\"0\" points=\"970,-23.5 1086,-23.5 \"/>\n<text text-anchor=\"middle\" x=\"1028\" y=\"-8.3\" font-family=\"Times,serif\" font-size=\"14.00\">NOUN</text>\n<polyline fill=\"none\" stroke=\"black\" stroke-width=\"0\" points=\"1086,-0.5 1086,-46.5 \"/>\n<text text-anchor=\"middle\" x=\"1115.5\" y=\"-31.3\" font-family=\"Times,serif\" font-size=\"14.00\">และ</text>\n<polyline fill=\"none\" stroke=\"black\" stroke-width=\"0\" points=\"1086,-23.5 1145,-23.5 \"/>\n<text text-anchor=\"middle\" x=\"1115.5\" y=\"-8.3\" font-family=\"Times,serif\" font-size=\"14.00\">CCONJ</text>\n<polyline fill=\"none\" stroke=\"black\" stroke-width=\"0\" points=\"1145,-0.5 1145,-46.5 \"/>\n<text text-anchor=\"middle\" x=\"1203\" y=\"-31.3\" font-family=\"Times,serif\" font-size=\"14.00\">การผลิต</text>\n<polyline fill=\"none\" stroke=\"black\" stroke-width=\"0\" points=\"1145,-23.5 1261,-23.5 \"/>\n<text text-anchor=\"middle\" x=\"1203\" y=\"-8.3\" font-family=\"Times,serif\" font-size=\"14.00\">NOUN</text>\n<polyline fill=\"none\" stroke=\"black\" stroke-width=\"0\" points=\"1261,-0.5 1261,-46.5 \"/>\n<text text-anchor=\"middle\" x=\"1312\" y=\"-31.3\" font-family=\"Times,serif\" font-size=\"14.00\">ไข่ไก่</text>\n<polyline fill=\"none\" stroke=\"black\" stroke-width=\"0\" points=\"1261,-23.5 1363,-23.5 \"/>\n<text text-anchor=\"middle\" x=\"1312\" y=\"-8.3\" font-family=\"Times,serif\" font-size=\"14.00\">NOUN</text>\n<polyline fill=\"none\" stroke=\"black\" stroke-width=\"0\" points=\"1363,-0.5 1363,-46.5 \"/>\n<text text-anchor=\"middle\" x=\"1435.5\" y=\"-31.3\" font-family=\"Times,serif\" font-size=\"14.00\">จำนวนมาก</text>\n<polyline fill=\"none\" stroke=\"black\" stroke-width=\"0\" points=\"1363,-23.5 1508,-23.5 \"/>\n<text text-anchor=\"middle\" x=\"1435.5\" y=\"-8.3\" font-family=\"Times,serif\" font-size=\"14.00\">DET</text>\n<polyline fill=\"none\" stroke=\"black\" stroke-width=\"0\" points=\"1508,-0.5 1508,-46.5 \"/>\n<text text-anchor=\"middle\" x=\"1545\" y=\"-31.3\" font-family=\"Times,serif\" font-size=\"14.00\">เป็น</text>\n<polyline fill=\"none\" stroke=\"black\" stroke-width=\"0\" points=\"1508,-23.5 1582,-23.5 \"/>\n<text text-anchor=\"middle\" x=\"1545\" y=\"-8.3\" font-family=\"Times,serif\" font-size=\"14.00\">VERB</text>\n<polyline fill=\"none\" stroke=\"black\" stroke-width=\"0\" points=\"1582,-0.5 1582,-46.5 \"/>\n<text text-anchor=\"middle\" x=\"1661.5\" y=\"-31.3\" font-family=\"Times,serif\" font-size=\"14.00\">อุตสาหกรรม</text>\n<polyline fill=\"none\" stroke=\"black\" stroke-width=\"0\" points=\"1582,-23.5 1741,-23.5 \"/>\n<text text-anchor=\"middle\" x=\"1661.5\" y=\"-8.3\" font-family=\"Times,serif\" font-size=\"14.00\">NOUN</text>\n<polyline fill=\"none\" stroke=\"black\" stroke-width=\"0\" points=\"1741,-0.5 1741,-46.5 \"/>\n<text text-anchor=\"middle\" x=\"1806.5\" y=\"-31.3\" font-family=\"Times,serif\" font-size=\"14.00\">ระดับโลก</text>\n<polyline fill=\"none\" stroke=\"black\" stroke-width=\"0\" points=\"1741,-23.5 1872,-23.5 \"/>\n<text text-anchor=\"middle\" x=\"1806.5\" y=\"-8.3\" font-family=\"Times,serif\" font-size=\"14.00\">NOUN</text>\n</g>\n<!-- x15&#45;&gt;w -->\n<g id=\"edge7\" class=\"edge\">\n<title>x15&#45;&gt;w:9</title>\n<path fill=\"none\" stroke=\"gray\" d=\"M682.14,-176.87C718.34,-154.54 774,-111.84 780.39,-57.32\"/>\n<polygon fill=\"gray\" stroke=\"gray\" points=\"783.91,-57.19 781,-47 776.92,-56.78 783.91,-57.19\"/>\n<text text-anchor=\"middle\" x=\"776.5\" y=\"-109.5\" font-family=\"sans-serif\" font-size=\"10.00\">aux</text>\n</g>\n<!-- x11&#45;&gt;w -->\n<g id=\"edge14\" class=\"edge\">\n<title>x11&#45;&gt;w:10</title>\n<path fill=\"none\" stroke=\"gray\" d=\"M936.07,-498.78C918.1,-484.14 897,-461.35 897,-435 897,-435 897,-435 897,-111 897,-86.22 897,-77.63 897,-57.03\"/>\n<polygon fill=\"gray\" stroke=\"gray\" points=\"900.5,-57 897,-47 893.5,-57 900.5,-57\"/>\n</g>\n<!-- x7 -->\n<g id=\"node12\" class=\"node\">\n<title>x7</title>\n<text text-anchor=\"middle\" x=\"1358\" y=\"-430.3\" font-family=\"Times,serif\" font-size=\"14.00\">ทั่วโลก และการผลิตไข่ไก่จำนวนมากเป็นอุตสาหกรรมระดับโลก</text>\n</g>\n<!-- x11&#45;&gt;x7 -->\n<g id=\"edge15\" class=\"edge\">\n<title>x11&#45;&gt;x7</title>\n<path fill=\"none\" stroke=\"gray\" d=\"M1044.71,-498.92C1108.97,-485.81 1197.7,-467.71 1264.33,-454.11\"/>\n<polygon fill=\"gray\" stroke=\"gray\" points=\"1265.31,-457.48 1274.41,-452.06 1263.91,-450.63 1265.31,-457.48\"/>\n<text text-anchor=\"middle\" x=\"1192.5\" y=\"-473\" font-family=\"sans-serif\" font-size=\"10.00\">acl</text>\n</g>\n<!-- x14&#45;&gt;w -->\n<g id=\"edge8\" class=\"edge\">\n<title>x14&#45;&gt;w:7</title>\n<path fill=\"none\" stroke=\"gray\" d=\"M625.74,-93.9C614.54,-84.52 603.05,-71.78 599.28,-57\"/>\n<polygon fill=\"gray\" stroke=\"gray\" points=\"602.74,-56.47 598,-47 595.8,-57.36 602.74,-56.47\"/>\n</g>\n<!-- x14&#45;&gt;w -->\n<g id=\"edge9\" class=\"edge\">\n<title>x14&#45;&gt;w:8</title>\n<path fill=\"none\" stroke=\"gray\" d=\"M666.45,-93.88C674,-84.09 682.06,-71.01 684.92,-57.18\"/>\n<polygon fill=\"gray\" stroke=\"gray\" points=\"688.42,-57.31 686,-47 681.46,-56.57 688.42,-57.31\"/>\n<text text-anchor=\"middle\" x=\"691.5\" y=\"-68\" font-family=\"sans-serif\" font-size=\"10.00\">obj</text>\n</g>\n<!-- x12&#45;&gt;w -->\n<g id=\"edge12\" class=\"edge\">\n<title>x12&#45;&gt;w:1</title>\n<path fill=\"none\" stroke=\"gray\" d=\"M67,-176.8C67,-151.28 67,-101.61 67,-57.02\"/>\n<polygon fill=\"gray\" stroke=\"gray\" points=\"70.5,-57 67,-47 63.5,-57 70.5,-57\"/>\n</g>\n<!-- x8 -->\n<g id=\"node11\" class=\"node\">\n<title>x8</title>\n<text text-anchor=\"middle\" x=\"491\" y=\"-108.3\" font-family=\"Times,serif\" font-size=\"14.00\">อื่น ๆ</text>\n</g>\n<!-- x12&#45;&gt;x8 -->\n<g id=\"edge13\" class=\"edge\">\n<title>x12&#45;&gt;x8</title>\n<path fill=\"none\" stroke=\"gray\" d=\"M134.09,-178.76C137.1,-178.15 140.08,-177.56 143,-177 269.36,-152.76 305.8,-159.63 435.04,-130.05\"/>\n<polygon fill=\"gray\" stroke=\"gray\" points=\"435.96,-133.43 444.92,-127.76 434.38,-126.61 435.96,-133.43\"/>\n<text text-anchor=\"middle\" x=\"364.5\" y=\"-151\" font-family=\"sans-serif\" font-size=\"10.00\">compound</text>\n</g>\n<!-- x10&#45;&gt;w -->\n<g id=\"edge16\" class=\"edge\">\n<title>x10&#45;&gt;w:2</title>\n<path fill=\"none\" stroke=\"gray\" d=\"M220.28,-176.91C192.78,-167.37 164.29,-152.64 145,-130 122.76,-103.89 125.23,-88.02 125.88,-57.1\"/>\n<polygon fill=\"gray\" stroke=\"gray\" points=\"129.38,-57.04 126,-47 122.38,-56.96 129.38,-57.04\"/>\n<text text-anchor=\"middle\" x=\"151.5\" y=\"-109.5\" font-family=\"sans-serif\" font-size=\"10.00\">cc</text>\n</g>\n<!-- x9 -->\n<g id=\"node13\" class=\"node\">\n<title>x9</title>\n<text text-anchor=\"middle\" x=\"297\" y=\"-108.3\" font-family=\"Times,serif\" font-size=\"14.00\">สิ่งมีชีวิตวางไข่</text>\n</g>\n<!-- x10&#45;&gt;x9 -->\n<g id=\"edge17\" class=\"edge\">\n<title>x10&#45;&gt;x9</title>\n<path fill=\"none\" stroke=\"gray\" d=\"M301.73,-176.82C300.94,-166.19 299.91,-152.31 299.02,-140.2\"/>\n<polygon fill=\"gray\" stroke=\"gray\" points=\"302.5,-139.87 298.27,-130.15 295.52,-140.38 302.5,-139.87\"/>\n</g>\n<!-- x8&#45;&gt;w -->\n<g id=\"edge20\" class=\"edge\">\n<title>x8&#45;&gt;w:5</title>\n<path fill=\"none\" stroke=\"gray\" d=\"M481.25,-93.94C476.25,-83.92 470.81,-70.64 468.8,-57.23\"/>\n<polygon fill=\"gray\" stroke=\"gray\" points=\"472.27,-56.7 468,-47 465.29,-57.24 472.27,-56.7\"/>\n<text text-anchor=\"middle\" x=\"482.5\" y=\"-68\" font-family=\"sans-serif\" font-size=\"10.00\">det</text>\n</g>\n<!-- x8&#45;&gt;w -->\n<g id=\"edge21\" class=\"edge\">\n<title>x8&#45;&gt;w:6</title>\n<path fill=\"none\" stroke=\"gray\" d=\"M510.03,-93.91C519.06,-84.24 528.58,-71.25 531.83,-57.02\"/>\n<polygon fill=\"gray\" stroke=\"gray\" points=\"535.32,-57.34 533,-47 528.37,-56.53 535.32,-57.34\"/>\n</g>\n<!-- x5 -->\n<g id=\"node14\" class=\"node\">\n<title>x5</title>\n<text text-anchor=\"middle\" x=\"1353\" y=\"-347.3\" font-family=\"Times,serif\" font-size=\"14.00\">ทั่วโลก และการผลิตไข่ไก่จำนวนมาก</text>\n</g>\n<!-- x7&#45;&gt;x5 -->\n<g id=\"edge22\" class=\"edge\">\n<title>x7&#45;&gt;x5</title>\n<path fill=\"none\" stroke=\"gray\" d=\"M1356.94,-415.82C1356.28,-405.19 1355.43,-391.31 1354.68,-379.2\"/>\n<polygon fill=\"gray\" stroke=\"gray\" points=\"1358.17,-378.92 1354.06,-369.15 1351.18,-379.35 1358.17,-378.92\"/>\n<text text-anchor=\"middle\" x=\"1370.5\" y=\"-390\" font-family=\"sans-serif\" font-size=\"10.00\">nsubj</text>\n</g>\n<!-- x6 -->\n<g id=\"node15\" class=\"node\">\n<title>x6</title>\n<text text-anchor=\"middle\" x=\"1619\" y=\"-191.3\" font-family=\"Times,serif\" font-size=\"14.00\">เป็นอุตสาหกรรมระดับโลก</text>\n</g>\n<!-- x7&#45;&gt;x6 -->\n<g id=\"edge23\" class=\"edge\">\n<title>x7&#45;&gt;x6</title>\n<path fill=\"none\" stroke=\"gray\" d=\"M1469.66,-415.98C1524.4,-405.26 1582.31,-389.54 1600,-369 1634.99,-328.36 1630.6,-260.92 1624.61,-223.37\"/>\n<polygon fill=\"gray\" stroke=\"gray\" points=\"1628,-222.43 1622.83,-213.18 1621.1,-223.63 1628,-222.43\"/>\n</g>\n<!-- x9&#45;&gt;w -->\n<g id=\"edge18\" class=\"edge\">\n<title>x9&#45;&gt;w:3</title>\n<path fill=\"none\" stroke=\"gray\" d=\"M270.47,-93.85C258.93,-84.54 247.16,-71.89 243.31,-57.05\"/>\n<polygon fill=\"gray\" stroke=\"gray\" points=\"246.76,-56.46 242,-47 239.82,-57.37 246.76,-56.46\"/>\n</g>\n<!-- x9&#45;&gt;w -->\n<g id=\"edge19\" class=\"edge\">\n<title>x9&#45;&gt;w:4</title>\n<path fill=\"none\" stroke=\"gray\" d=\"M343.35,-93.98C359.25,-85.42 374.18,-73.35 378.65,-57.07\"/>\n<polygon fill=\"gray\" stroke=\"gray\" points=\"382.14,-57.38 380,-47 375.2,-56.45 382.14,-57.38\"/>\n<text text-anchor=\"middle\" x=\"398.5\" y=\"-68\" font-family=\"sans-serif\" font-size=\"10.00\">compound</text>\n</g>\n<!-- x5&#45;&gt;w -->\n<g id=\"edge27\" class=\"edge\">\n<title>x5&#45;&gt;w:15</title>\n<path fill=\"none\" stroke=\"gray\" d=\"M1379.05,-332.75C1394.86,-320.02 1412,-301.12 1412,-279 1412,-279 1412,-279 1412,-111 1412,-84.42 1430.38,-78.61 1434.97,-57.23\"/>\n<polygon fill=\"gray\" stroke=\"gray\" points=\"1438.48,-57.3 1436,-47 1431.51,-56.6 1438.48,-57.3\"/>\n<text text-anchor=\"middle\" x=\"1421.5\" y=\"-192.5\" font-family=\"sans-serif\" font-size=\"10.00\">det</text>\n</g>\n<!-- x4 -->\n<g id=\"node17\" class=\"node\">\n<title>x4</title>\n<text text-anchor=\"middle\" x=\"1190\" y=\"-274.3\" font-family=\"Times,serif\" font-size=\"14.00\">ทั่วโลก และการผลิตไข่ไก่</text>\n</g>\n<!-- x5&#45;&gt;x4 -->\n<g id=\"edge26\" class=\"edge\">\n<title>x5&#45;&gt;x4</title>\n<path fill=\"none\" stroke=\"gray\" d=\"M1313.96,-332.99C1291.34,-323.14 1262.67,-310.66 1238.61,-300.17\"/>\n<polygon fill=\"gray\" stroke=\"gray\" points=\"1239.85,-296.9 1229.29,-296.11 1237.06,-303.32 1239.85,-296.9\"/>\n</g>\n<!-- x6&#45;&gt;w -->\n<g id=\"edge24\" class=\"edge\">\n<title>x6&#45;&gt;w:16</title>\n<path fill=\"none\" stroke=\"gray\" d=\"M1600.67,-176.89C1588.83,-164.85 1574,-147.77 1565,-130 1549.47,-99.32 1545.66,-87.24 1545.08,-57.01\"/>\n<polygon fill=\"gray\" stroke=\"gray\" points=\"1548.58,-56.97 1545,-47 1541.58,-57.03 1548.58,-56.97\"/>\n</g>\n<!-- x3 -->\n<g id=\"node16\" class=\"node\">\n<title>x3</title>\n<text text-anchor=\"middle\" x=\"1710\" y=\"-108.3\" font-family=\"Times,serif\" font-size=\"14.00\">อุตสาหกรรมระดับโลก</text>\n</g>\n<!-- x6&#45;&gt;x3 -->\n<g id=\"edge25\" class=\"edge\">\n<title>x6&#45;&gt;x3</title>\n<path fill=\"none\" stroke=\"gray\" d=\"M1638.3,-176.82C1651.33,-165.22 1668.71,-149.75 1683.09,-136.95\"/>\n<polygon fill=\"gray\" stroke=\"gray\" points=\"1685.59,-139.42 1690.73,-130.15 1680.93,-134.19 1685.59,-139.42\"/>\n<text text-anchor=\"middle\" x=\"1678.5\" y=\"-151\" font-family=\"sans-serif\" font-size=\"10.00\">obj</text>\n</g>\n<!-- x3&#45;&gt;w -->\n<g id=\"edge30\" class=\"edge\">\n<title>x3&#45;&gt;w:17</title>\n<path fill=\"none\" stroke=\"gray\" d=\"M1687.69,-93.93C1677.5,-84.46 1666.91,-71.68 1663.3,-57.24\"/>\n<polygon fill=\"gray\" stroke=\"gray\" points=\"1666.73,-56.48 1662,-47 1659.78,-57.36 1666.73,-56.48\"/>\n</g>\n<!-- x3&#45;&gt;w -->\n<g id=\"edge31\" class=\"edge\">\n<title>x3&#45;&gt;w:18</title>\n<path fill=\"none\" stroke=\"gray\" d=\"M1768.66,-93.95C1785.74,-85.74 1801.06,-73.96 1805.62,-57.35\"/>\n<polygon fill=\"gray\" stroke=\"gray\" points=\"1809.15,-57.37 1807,-47 1802.21,-56.45 1809.15,-57.37\"/>\n<text text-anchor=\"middle\" x=\"1825.5\" y=\"-68\" font-family=\"sans-serif\" font-size=\"10.00\">compound</text>\n</g>\n<!-- x4&#45;&gt;w -->\n<g id=\"edge28\" class=\"edge\">\n<title>x4&#45;&gt;w:11</title>\n<path fill=\"none\" stroke=\"gray\" d=\"M1127.23,-259.92C1102.42,-250.09 1075.86,-235.16 1059,-213 1015.68,-156.07 1026.78,-125.04 1027.91,-57.27\"/>\n<polygon fill=\"gray\" stroke=\"gray\" points=\"1031.41,-57.03 1028,-47 1024.41,-56.97 1031.41,-57.03\"/>\n</g>\n<!-- x2 -->\n<g id=\"node18\" class=\"node\">\n<title>x2</title>\n<text text-anchor=\"middle\" x=\"1190\" y=\"-191.3\" font-family=\"Times,serif\" font-size=\"14.00\">และการผลิตไข่ไก่</text>\n</g>\n<!-- x4&#45;&gt;x2 -->\n<g id=\"edge29\" class=\"edge\">\n<title>x4&#45;&gt;x2</title>\n<path fill=\"none\" stroke=\"gray\" d=\"M1190,-259.82C1190,-249.19 1190,-235.31 1190,-223.2\"/>\n<polygon fill=\"gray\" stroke=\"gray\" points=\"1193.5,-223.15 1190,-213.15 1186.5,-223.15 1193.5,-223.15\"/>\n<text text-anchor=\"middle\" x=\"1202.5\" y=\"-234\" font-family=\"sans-serif\" font-size=\"10.00\">conj</text>\n</g>\n<!-- x2&#45;&gt;w -->\n<g id=\"edge32\" class=\"edge\">\n<title>x2&#45;&gt;w:12</title>\n<path fill=\"none\" stroke=\"gray\" d=\"M1165.43,-176.74C1151.1,-165.25 1134.1,-148.82 1125,-130 1110.42,-99.86 1114.82,-86.74 1115.82,-57.21\"/>\n<polygon fill=\"gray\" stroke=\"gray\" points=\"1119.33,-57.06 1116,-47 1112.33,-56.94 1119.33,-57.06\"/>\n<text text-anchor=\"middle\" x=\"1131.5\" y=\"-109.5\" font-family=\"sans-serif\" font-size=\"10.00\">cc</text>\n</g>\n<!-- x1 -->\n<g id=\"node19\" class=\"node\">\n<title>x1</title>\n<text text-anchor=\"middle\" x=\"1248\" y=\"-108.3\" font-family=\"Times,serif\" font-size=\"14.00\">การผลิตไข่ไก่</text>\n</g>\n<!-- x2&#45;&gt;x1 -->\n<g id=\"edge33\" class=\"edge\">\n<title>x2&#45;&gt;x1</title>\n<path fill=\"none\" stroke=\"gray\" d=\"M1202.3,-176.82C1210.3,-165.65 1220.87,-150.9 1229.82,-138.38\"/>\n<polygon fill=\"gray\" stroke=\"gray\" points=\"1232.74,-140.32 1235.72,-130.15 1227.05,-136.25 1232.74,-140.32\"/>\n</g>\n<!-- x1&#45;&gt;w -->\n<g id=\"edge34\" class=\"edge\">\n<title>x1&#45;&gt;w:13</title>\n<path fill=\"none\" stroke=\"gray\" d=\"M1227.34,-93.91C1217.73,-84.34 1207.67,-71.46 1204.23,-57.13\"/>\n<polygon fill=\"gray\" stroke=\"gray\" points=\"1207.68,-56.5 1203,-47 1200.73,-57.35 1207.68,-56.5\"/>\n</g>\n<!-- x1&#45;&gt;w -->\n<g id=\"edge35\" class=\"edge\">\n<title>x1&#45;&gt;w:14</title>\n<path fill=\"none\" stroke=\"gray\" d=\"M1280.37,-93.83C1293.52,-84.75 1306.58,-72.28 1310.68,-56.93\"/>\n<polygon fill=\"gray\" stroke=\"gray\" points=\"1314.15,-57.37 1312,-47 1307.22,-56.45 1314.15,-57.37\"/>\n<text text-anchor=\"middle\" x=\"1331.5\" y=\"-68\" font-family=\"sans-serif\" font-size=\"10.00\">compound</text>\n</g>\n</g>\n</svg>\n",
            "text/plain": [
              "<graphviz.sources.Source at 0x7fb36deae860>"
            ]
          },
          "metadata": {},
          "execution_count": 39
        }
      ]
    }
  ],
  "metadata": {
    "kernelspec": {
      "display_name": "course_vm",
      "language": "python",
      "name": "python3"
    },
    "language_info": {
      "codemirror_mode": {
        "name": "ipython",
        "version": 3
      },
      "file_extension": ".py",
      "mimetype": "text/x-python",
      "name": "python",
      "nbconvert_exporter": "python",
      "pygments_lexer": "ipython3",
      "version": "3.10.5"
    },
    "orig_nbformat": 4,
    "colab": {
      "provenance": [],
      "include_colab_link": true
    }
  },
  "nbformat": 4,
  "nbformat_minor": 0
}